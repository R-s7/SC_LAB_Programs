{
  "nbformat": 4,
  "nbformat_minor": 0,
  "metadata": {
    "colab": {
      "provenance": []
    },
    "kernelspec": {
      "name": "python3",
      "display_name": "Python 3"
    },
    "language_info": {
      "name": "python"
    }
  },
  "cells": [
    {
      "cell_type": "code",
      "execution_count": 4,
      "metadata": {
        "colab": {
          "base_uri": "https://localhost:8080/"
        },
        "id": "ygExBQPcErwL",
        "outputId": "8d8c1eee-cdad-4fab-ac86-aa4bcdbc53a9"
      },
      "outputs": [
        {
          "output_type": "stream",
          "name": "stdout",
          "text": [
            "Sorted Array: [3, 9, 10, 27, 38, 43, 82]\n"
          ]
        }
      ],
      "source": [
        "#************************************************************\n",
        "\n",
        "#4 Parallel Algorithm and Distributed Systems\n",
        "\n",
        "import concurrent.futures\n",
        "\n",
        "# --- Merge Two Sorted Lists ---\n",
        "def merge(left, right):\n",
        "    result = []\n",
        "    i = j = 0\n",
        "    while i < len(left) and j < len(right):\n",
        "        if left[i] < right[j]:\n",
        "            result.append(left[i])\n",
        "            i += 1\n",
        "        else:\n",
        "            result.append(right[j])\n",
        "            j += 1\n",
        "    result.extend(left[i:])\n",
        "    result.extend(right[j:])\n",
        "    return result\n",
        "\n",
        "# --- Parallel Merge Sort Function ---\n",
        "def parallel_merge_sort(arr):\n",
        "    if len(arr) <= 1:\n",
        "        return arr\n",
        "    mid = len(arr) // 2\n",
        "    with concurrent.futures.ProcessPoolExecutor(max_workers=8) as executor:\n",
        "        left_future = executor.submit(parallel_merge_sort, arr[:mid])\n",
        "        right_future = executor.submit(parallel_merge_sort, arr[mid:])\n",
        "        left = left_future.result()\n",
        "        right = right_future.result()\n",
        "    return merge(left, right)\n",
        "\n",
        "# --- Test the Sorting ---\n",
        "if __name__ == \"__main__\":\n",
        "    arr = [38, 27, 43, 3, 9, 82, 10]\n",
        "    sorted_arr = parallel_merge_sort(arr)\n",
        "    print(\"Sorted Array:\", sorted_arr)\n",
        "\n",
        "#************************************************************\n"
      ]
    }
  ]
}