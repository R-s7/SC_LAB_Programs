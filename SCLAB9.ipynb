{
  "nbformat": 4,
  "nbformat_minor": 0,
  "metadata": {
    "colab": {
      "provenance": []
    },
    "kernelspec": {
      "name": "python3",
      "display_name": "Python 3"
    },
    "language_info": {
      "name": "python"
    }
  },
  "cells": [
    {
      "cell_type": "code",
      "execution_count": 9,
      "metadata": {
        "colab": {
          "base_uri": "https://localhost:8080/"
        },
        "id": "ygExBQPcErwL",
        "outputId": "7523e313-62d3-4bd2-df42-872ae6ab64bd"
      },
      "outputs": [
        {
          "output_type": "stream",
          "name": "stdout",
          "text": [
            "Epoch 1: Weights = [1. 1.], Bias = 1\n",
            "Epoch 2: Weights = [2. 2.], Bias = 2\n",
            "Epoch 3: Weights = [3. 3.], Bias = 3\n",
            "Epoch 4: Weights = [4. 4.], Bias = 4\n",
            "Epoch 5: Weights = [5. 5.], Bias = 5\n",
            "\n",
            "Final Weights: [5. 5.]\n",
            "Final Bias: 5\n"
          ]
        }
      ],
      "source": [
        "#************************************************************\n",
        "\n",
        "#9 Perceptron Hebbs rule or delta rule\n",
        "\n",
        "import numpy as np\n",
        "\n",
        "# Inputs (4 samples, 2 features)\n",
        "X = np.array([[0,0], [0,1], [1,0], [1,1]])\n",
        "# Targets (AND logic)\n",
        "y = np.array([0, 0, 0, 1])\n",
        "\n",
        "# Initialize weights and bias\n",
        "w = np.zeros(2)\n",
        "b = 0\n",
        "\n",
        "# Activation function (threshold at 0)\n",
        "def activation(x):\n",
        "    return 1 if x > 0 else 0\n",
        "\n",
        "# Number of training epochs\n",
        "epochs = 5\n",
        "\n",
        "# Training loop\n",
        "for epoch in range(epochs):\n",
        "    for xi, target in zip(X, y):\n",
        "        output = activation(np.dot(w, xi) + b)\n",
        "        error = target - output\n",
        "        # Hebb's Rule update only if target is 1 (reinforcement)\n",
        "        if target == 1:\n",
        "            w += xi\n",
        "            b += 1\n",
        "    print(f\"Epoch {epoch+1}: Weights = {w}, Bias = {b}\")\n",
        "\n",
        "# Final result\n",
        "print(\"\\nFinal Weights:\", w)\n",
        "print(\"Final Bias:\", b)\n"
      ]
    }
  ]
}