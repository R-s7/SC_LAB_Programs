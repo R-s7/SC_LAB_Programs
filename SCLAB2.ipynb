{
  "nbformat": 4,
  "nbformat_minor": 0,
  "metadata": {
    "colab": {
      "provenance": []
    },
    "kernelspec": {
      "name": "python3",
      "display_name": "Python 3"
    },
    "language_info": {
      "name": "python"
    }
  },
  "cells": [
    {
      "cell_type": "code",
      "execution_count": 2,
      "metadata": {
        "colab": {
          "base_uri": "https://localhost:8080/"
        },
        "id": "ygExBQPcErwL",
        "outputId": "f54d0395-45ad-4c1e-f95d-434d609ac022"
      },
      "outputs": [
        {
          "output_type": "stream",
          "name": "stdout",
          "text": [
            "=== Fuzzy Controller Output ===\n",
            "Error: -4\n",
            "Centroid Defuzzification: 50.00\n",
            "Mean of Maximum: 50.00\n"
          ]
        }
      ],
      "source": [
        "#LAB 02-\n",
        "import numpy as np\n",
        "\n",
        "# --- Defuzzification Functions ---\n",
        "\n",
        "def centroid(x, mf):\n",
        "    return np.sum(x * mf) / np.sum(mf)\n",
        "\n",
        "def mean_of_maximum(x, mf):\n",
        "    max_val = np.max(mf)\n",
        "    max_indices = np.where(mf == max_val)[0]\n",
        "    return np.mean(x[max_indices])\n",
        "\n",
        "# --- Fuzzy Controller ---\n",
        "\n",
        "def fuzzy_controller(error):\n",
        "    x = np.linspace(0, 100, 100)  # Output values (0-100%)\n",
        "\n",
        "    # Fuzzy rules based on error\n",
        "    if error < -5:\n",
        "        output_mf = np.maximum(0, 1 - (x / 50))  # Low\n",
        "    elif -5 <= error <= 5:\n",
        "        output_mf = np.maximum(0, 1 - abs(x - 50) / 25)  # Medium\n",
        "    else:\n",
        "        output_mf = np.maximum(0, (x - 50) / 50)  # High\n",
        "\n",
        "    # Defuzzification\n",
        "    center = centroid(x, output_mf)\n",
        "    mean_max = mean_of_maximum(x, output_mf)\n",
        "\n",
        "    return center, mean_max\n",
        "error = -4\n",
        "centroid_output, mean_max_output = fuzzy_controller(error)\n",
        "\n",
        "print(\"=== Fuzzy Controller Output ===\")\n",
        "print(f\"Error: {error}\")\n",
        "print(f\"Centroid Defuzzification: {centroid_output:.2f}\")\n",
        "print(f\"Mean of Maximum: {mean_max_output:.2f}\")"
      ]
    }
  ]
}