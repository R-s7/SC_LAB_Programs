{
  "nbformat": 4,
  "nbformat_minor": 0,
  "metadata": {
    "colab": {
      "provenance": []
    },
    "kernelspec": {
      "name": "python3",
      "display_name": "Python 3"
    },
    "language_info": {
      "name": "python"
    }
  },
  "cells": [
    {
      "cell_type": "code",
      "execution_count": 5,
      "metadata": {
        "colab": {
          "base_uri": "https://localhost:8080/"
        },
        "id": "ygExBQPcErwL",
        "outputId": "0af45606-844e-4e81-c4d0-81fcfe19878e"
      },
      "outputs": [
        {
          "output_type": "stream",
          "name": "stdout",
          "text": [
            "Best solution: [2 1 0 3]\n",
            "Best cost: 40\n"
          ]
        }
      ],
      "source": [
        "#************************************************************\n",
        "\n",
        "#5 Ant Colony\n",
        "\n",
        "import numpy as np\n",
        "\n",
        "# Parameters\n",
        "num_ants, num_iter, rho, Q = 2, 5, 0.1, 5  # Evaporation rate should be between 0 and 1\n",
        "\n",
        "dist = np.array([[0, 10, 17, 10],\n",
        "                 [10, 0, 10, 10],\n",
        "                 [17, 10, 0, 10],\n",
        "                 [10, 10, 10, 0]])  # Distance matrix\n",
        "\n",
        "n = len(dist)  # Number of cities\n",
        "pher = np.ones((n, n))  # Initialize pheromone matrix with ones\n",
        "\n",
        "# Function to calculate the cost (total distance) of a given path\n",
        "def cost(path):\n",
        "    return sum(dist[path[i], path[i+1]] for i in range(n-1)) + dist[path[-1], path[0]]\n",
        "\n",
        "# Function to update pheromone levels based on solutions\n",
        "def update(pher, sols):\n",
        "    pher *= (1 - rho)  # Evaporation of pheromone (should be outside the loop)\n",
        "    for path in sols:\n",
        "        for i in range(n):\n",
        "            pher[path[i], path[(i+1) % n]] += Q / cost(path)  # Pheromone deposit\n",
        "\n",
        "# Ant Colony Optimization function\n",
        "def aco():\n",
        "    global pher\n",
        "    best_path, best_cost = None, float('inf')\n",
        "    for _ in range(num_iter):\n",
        "        sols = [np.random.permutation(n) for _ in range(num_ants)]  # Generate solutions\n",
        "        update(pher, sols)  # Update pheromones\n",
        "        for path in sols:\n",
        "            c = cost(path)\n",
        "            if c < best_cost:\n",
        "                best_path, best_cost = path.copy(), c  # Update best solution\n",
        "    return best_path, best_cost\n",
        "\n",
        "# Run the ACO algorithm and print the best solution\n",
        "best_path, best_cost = aco()\n",
        "print(\"Best solution:\", best_path)\n",
        "print(\"Best cost:\", best_cost)\n",
        "\n",
        "#************************************************************"
      ]
    }
  ]
}