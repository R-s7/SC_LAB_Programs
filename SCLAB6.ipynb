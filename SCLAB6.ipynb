{
  "nbformat": 4,
  "nbformat_minor": 0,
  "metadata": {
    "colab": {
      "provenance": []
    },
    "kernelspec": {
      "name": "python3",
      "display_name": "Python 3"
    },
    "language_info": {
      "name": "python"
    }
  },
  "cells": [
    {
      "cell_type": "code",
      "execution_count": 6,
      "metadata": {
        "colab": {
          "base_uri": "https://localhost:8080/"
        },
        "id": "ygExBQPcErwL",
        "outputId": "5d7dbec5-d147-439a-c35c-285787f44c1f"
      },
      "outputs": [
        {
          "output_type": "stream",
          "name": "stdout",
          "text": [
            "Iteration 1: Best position = -0.8039, Best value = 0.6462\n",
            "Iteration 2: Best position = -0.8039, Best value = 0.6462\n",
            "Iteration 3: Best position = -0.4503, Best value = 0.2028\n",
            "Iteration 4: Best position = -0.1671, Best value = 0.0279\n",
            "Iteration 5: Best position = -0.0111, Best value = 0.0001\n",
            "Iteration 6: Best position = -0.0111, Best value = 0.0001\n",
            "Iteration 7: Best position = -0.0111, Best value = 0.0001\n",
            "Iteration 8: Best position = -0.0111, Best value = 0.0001\n",
            "Iteration 9: Best position = 0.0067, Best value = 0.0000\n",
            "Iteration 10: Best position = -0.0065, Best value = 0.0000\n",
            "\n",
            "Final Best position: -0.006543512352443178\n",
            "Final Best value: 4.2817553906576456e-05\n"
          ]
        }
      ],
      "source": [
        "#************************************************************\n",
        "\n",
        "#6 Particle Swarm Optimization\n",
        "\n",
        "import random\n",
        "\n",
        "def f(x): return x*x\n",
        "\n",
        "pos = [random.uniform(-10,10) for _ in range(5)]\n",
        "vel = [0]*5\n",
        "pbest = pos[:]\n",
        "pbest_val = [f(x) for x in pos]\n",
        "gbest = min(pbest, key=f)\n",
        "\n",
        "for it in range(10):\n",
        "    for i in range(5):\n",
        "        if f(pos[i]) < pbest_val[i]:\n",
        "            pbest[i] = pos[i]\n",
        "            pbest_val[i] = f(pos[i])\n",
        "    gbest = min(pbest, key=f)\n",
        "    for i in range(5):\n",
        "        vel[i] = 0.5*vel[i] + 1.5*random.random()*(pbest[i]-pos[i]) + 1.5*random.random()*(gbest-pos[i])\n",
        "        pos[i] += vel[i]\n",
        "    print(f\"Iteration {it+1}: Best position = {gbest:.4f}, Best value = {f(gbest):.4f}\")\n",
        "\n",
        "print(\"\\nFinal Best position:\", gbest)\n",
        "print(\"Final Best value:\", f(gbest))\n",
        "\n",
        "#************************************************************"
      ]
    }
  ]
}