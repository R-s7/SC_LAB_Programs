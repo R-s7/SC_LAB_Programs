{
  "nbformat": 4,
  "nbformat_minor": 0,
  "metadata": {
    "colab": {
      "provenance": []
    },
    "kernelspec": {
      "name": "python3",
      "display_name": "Python 3"
    },
    "language_info": {
      "name": "python"
    }
  },
  "cells": [
    {
      "cell_type": "code",
      "execution_count": 7,
      "metadata": {
        "colab": {
          "base_uri": "https://localhost:8080/"
        },
        "id": "ygExBQPcErwL",
        "outputId": "2eb71302-5650-43e6-bed5-6a210f663e10"
      },
      "outputs": [
        {
          "output_type": "stream",
          "name": "stdout",
          "text": [
            "Iter 1: Best = -2.4235, Value = 5.8732\n",
            "Iter 2: Best = 2.8220, Value = 7.9639\n",
            "Iter 3: Best = 3.2323, Value = 10.4478\n",
            "Iter 4: Best = 3.5408, Value = 12.5376\n",
            "Iter 5: Best = 3.2225, Value = 10.3844\n",
            "Iter 6: Best = 2.4803, Value = 6.1520\n",
            "Iter 7: Best = 1.9992, Value = 3.9967\n",
            "Iter 8: Best = 2.2749, Value = 5.1750\n",
            "Iter 9: Best = 2.1863, Value = 4.7798\n",
            "Iter 10: Best = 2.2263, Value = 4.9562\n",
            "Best solution: 2.2263 with value: 4.9562\n"
          ]
        }
      ],
      "source": [
        "#************************************************************\n",
        "\n",
        "#7 Grey Wolf Optimization\n",
        "\n",
        "import random\n",
        "\n",
        "def f(x): return x*x\n",
        "\n",
        "wolves = [random.uniform(-10, 10) for _ in range(5)]\n",
        "a = 2\n",
        "\n",
        "for iter in range(10):\n",
        "    wolves.sort(key=f)\n",
        "    alpha, beta, delta = wolves[0], wolves[1], wolves[2]\n",
        "    a -= 2 / 10\n",
        "    new_wolves = []\n",
        "    for w in wolves:\n",
        "        r1, r2 = random.random(), random.random()\n",
        "        A = 2 * a * r1 - a\n",
        "        C = 2 * r2\n",
        "        D_alpha = abs(C * alpha - w)\n",
        "        X1 = alpha - A * D_alpha\n",
        "\n",
        "        r1, r2 = random.random(), random.random()\n",
        "        A = 2 * a * r1 - a\n",
        "        C = 2 * r2\n",
        "        D_beta = abs(C * beta - w)\n",
        "        X2 = beta - A * D_beta\n",
        "\n",
        "        r1, r2 = random.random(), random.random()\n",
        "        A = 2 * a * r1 - a\n",
        "        C = 2 * r2\n",
        "        D_delta = abs(C * delta - w)\n",
        "        X3 = delta - A * D_delta\n",
        "\n",
        "        new_wolves.append((X1 + X2 + X3) / 3)\n",
        "    wolves = new_wolves\n",
        "    print(f\"Iter {iter+1}: Best = {alpha:.4f}, Value = {f(alpha):.4f}\")\n",
        "\n",
        "print(f\"Best solution: {alpha:.4f} with value: {f(alpha):.4f}\")\n"
      ]
    }
  ]
}