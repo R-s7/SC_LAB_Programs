{
  "nbformat": 4,
  "nbformat_minor": 0,
  "metadata": {
    "colab": {
      "provenance": []
    },
    "kernelspec": {
      "name": "python3",
      "display_name": "Python 3"
    },
    "language_info": {
      "name": "python"
    }
  },
  "cells": [
    {
      "cell_type": "code",
      "execution_count": 1,
      "metadata": {
        "colab": {
          "base_uri": "https://localhost:8080/"
        },
        "id": "ygExBQPcErwL",
        "outputId": "ed3bcde9-ace4-494a-e5ca-e37b36dd5698"
      },
      "outputs": [
        {
          "output_type": "stream",
          "name": "stdout",
          "text": [
            "Input A: [0.3 0.7 1. ]\n",
            "Output B: [0.6 0.2 0.9]\n",
            "\n",
            "Max-Min Composition (R ∘ S):\n",
            " [[0.5 0.7 0.4]\n",
            " [0.5 0.8 0.6]\n",
            " [0.5 0.9 0.6]]\n",
            "\n",
            "Fuzzy Implication Matrix (A ⇒ B):\n",
            " [[0.3 0.2 0.3]\n",
            " [0.6 0.2 0.7]\n",
            " [0.6 0.2 0.9]]\n",
            "\n",
            "Fuzzy Inference Result:\n",
            " [0.6 0.2 0.9]\n"
          ]
        }
      ],
      "source": [
        "#************************************************************\n",
        "\n",
        "#1 Fuzzy Relations\n",
        "\n",
        "import numpy as np\n",
        "\n",
        "# --- Fuzzy Sets ---\n",
        "A = np.array([0.3, 0.7, 1.0])\n",
        "B = np.array([0.6, 0.2, 0.9])\n",
        "\n",
        "# --- Fuzzy Relations ---\n",
        "R = np.array([\n",
        "    [0.2, 0.5, 0.7],\n",
        "    [0.8, 0.4, 0.6],\n",
        "    [0.9, 0.3, 0.5]\n",
        "])\n",
        "\n",
        "S = np.array([\n",
        "    [0.3, 0.9, 0.6],\n",
        "    [0.6, 0.7, 0.2],\n",
        "    [0.5, 0.8, 0.4]\n",
        "])\n",
        "\n",
        "# --- Max-Min Composition ---\n",
        "def max_min(R1, R2):\n",
        "    return np.array([\n",
        "        [np.max(np.minimum(R1[i], R2[:, j])) for j in range(R2.shape[1])]\n",
        "        for i in range(R1.shape[0])\n",
        "    ])\n",
        "\n",
        "# --- fuzzy Implication ---\n",
        "def fuzzy_implication(A, B):\n",
        "    return np.array([\n",
        "        [min(a, b) for b in B]\n",
        "        for a in A\n",
        "    ])\n",
        "\n",
        "# --- Fuzzy Inference (A ∘ ImplicationMatrix) ---\n",
        "def fuzzy_infer(A, rule_matrix):\n",
        "    return np.array([\n",
        "        np.max(np.minimum(A, rule_matrix[:, j]))\n",
        "        for j in range(rule_matrix.shape[1])\n",
        "    ])\n",
        "\n",
        "# --- Execution ---\n",
        "print(\"Input A:\", A)\n",
        "print(\"Output B:\", B)\n",
        "\n",
        "# 1. Max-Min Composition: R o S\n",
        "RS = max_min(R, S)\n",
        "print(\"\\nMax-Min Composition (R ∘ S):\\n\", RS)\n",
        "\n",
        "# 2. Fuzzy Implication Matrix: A => B\n",
        "imp_matrix = fuzzy_implication(A, B)\n",
        "print(\"\\nFuzzy Implication Matrix (A ⇒ B):\\n\", imp_matrix)\n",
        "\n",
        "# 3. Fuzzy Inference: A ∘ (A ⇒ B)\n",
        "inferred = fuzzy_infer(A, imp_matrix)\n",
        "print(\"\\nFuzzy Inference Result:\\n\", inferred)\n",
        "\n",
        "#************************************************************\n"
      ]
    }
  ]
}